{
 "cells": [
  {
   "cell_type": "markdown",
   "id": "6655ee89",
   "metadata": {
    "id": "6655ee89"
   },
   "source": [
    "# 📌 Dashboards Assignment: Interactive Dash Applications\n",
    "\n",
    "## **Objective**  \n",
    "Create Dash applications that demonstrate **State, multiple inputs, and multiple outputs** in interactive dashboards.\n",
    "\n",
    "---"
   ]
  },
  {
   "cell_type": "markdown",
   "id": "ea48e223-c9f9-4b98-bdbb-b0ca151db54e",
   "metadata": {
    "id": "ea48e223-c9f9-4b98-bdbb-b0ca151db54e"
   },
   "source": [
    "\n",
    "## **📝 Task 1: Live Text Update vs. Button-Triggered Update**\n",
    "### **Requirement**\n",
    "- Build a simple Dash app that includes:\n",
    "  - **An input box (`dcc.Input`)** where the user types text.\n",
    "  - **Two ways to update the text display:**\n",
    "    1. **Live Update:** The displayed text updates dynamically as the user types.\n",
    "    2. **Button-Triggered Update:** The displayed text updates **only when a button is clicked**.\n",
    "### **Example Layout**\n",
    "- `dcc.Input`: User enters text.\n",
    "- `html.Button`: Triggers the text update (for `State` example).\n",
    "- `html.H3`: Displays the entered text.\n",
    "\n",
    "---\n"
   ]
  },
  {
   "cell_type": "code",
   "execution_count": 20,
   "id": "c470a2bc",
   "metadata": {},
   "outputs": [
    {
     "data": {
      "text/html": [
       "\n",
       "        <iframe\n",
       "            width=\"100%\"\n",
       "            height=\"650\"\n",
       "            src=\"http://127.0.0.1:8051/\"\n",
       "            frameborder=\"0\"\n",
       "            allowfullscreen\n",
       "            \n",
       "        ></iframe>\n",
       "        "
      ],
      "text/plain": [
       "<IPython.lib.display.IFrame at 0x21a5f2ffc50>"
      ]
     },
     "metadata": {},
     "output_type": "display_data"
    }
   ],
   "source": [
    "from dash import Dash, dcc, html, Input, Output, State\n",
    "\n",
    "app1 = Dash(__name__)\n",
    "app1.layout = html.Div([\n",
    "    html.H3(\"Task 1: Live vs Button Text Update\"),\n",
    "    dcc.Input(id='input-text-1', type='text', value='', debounce=False),\n",
    "    html.Button('Update Text', id='update-btn-1', n_clicks=0),\n",
    "    html.H4(\"🔄 Live Output:\"),\n",
    "    html.H3(id='live-output-1', style={'color': 'green'}),\n",
    "    html.H4(\"📦 Button Output:\"),\n",
    "    html.H3(id='btn-output-1', style={'color': 'blue'})\n",
    "])\n",
    "\n",
    "@app1.callback(Output('live-output-1', 'children'), Input('input-text-1', 'value'))\n",
    "def live_update_1(text):\n",
    "    return text\n",
    "\n",
    "@app1.callback(Output('btn-output-1', 'children'), Input('update-btn-1', 'n_clicks'),\n",
    "               State('input-text-1', 'value'))\n",
    "def button_update_1(n_clicks, text):\n",
    "    return text if n_clicks > 0 else \"\"\n",
    "\n",
    "# Run Task 1 server.\n",
    "if __name__ == '__main__':\n",
    "    app1.run_server(debug=True, port=8051)  # Use a unique port to be able to run each task alone without affect to other task."
   ]
  },
  {
   "cell_type": "markdown",
   "id": "9069bfa8-0961-41c2-85f4-37add3f9ab8b",
   "metadata": {
    "id": "9069bfa8-0961-41c2-85f4-37add3f9ab8b"
   },
   "source": [
    "---\n",
    "\n",
    "## **📝 Task 2: Interactive Chart with Multiple Inputs**\n",
    "### **Requirement**\n",
    "- Build a **data visualization dashboard** where:\n",
    "  - A user selects a **country** from a dropdown menu.\n",
    "  - A slider allows adjusting the **year range** for data filtering.\n",
    "  - A **line chart (`dcc.Graph`)** updates dynamically to show trends based on both inputs.\n",
    "\n",
    "### **Example Layout**\n",
    "- `dcc.Dropdown`: Select a country.\n",
    "- `dcc.RangeSlider`: Select a year range.\n",
    "- `dcc.Graph`: Displays filtered data as a line chart.\n",
    "\n",
    "---\n"
   ]
  },
  {
   "cell_type": "code",
   "execution_count": 21,
   "id": "6b24b06b",
   "metadata": {},
   "outputs": [
    {
     "data": {
      "text/html": [
       "\n",
       "        <iframe\n",
       "            width=\"100%\"\n",
       "            height=\"650\"\n",
       "            src=\"http://127.0.0.1:8052/\"\n",
       "            frameborder=\"0\"\n",
       "            allowfullscreen\n",
       "            \n",
       "        ></iframe>\n",
       "        "
      ],
      "text/plain": [
       "<IPython.lib.display.IFrame at 0x21a60ed6450>"
      ]
     },
     "metadata": {},
     "output_type": "display_data"
    }
   ],
   "source": [
    "import numpy as np\n",
    "import pandas as pd\n",
    "import plotly.express as px\n",
    "from dash import Dash, dcc, html, Input, Output\n",
    "\n",
    "app2 = Dash(__name__)\n",
    "\n",
    "years = np.arange(2000, 2021)\n",
    "df2 = pd.DataFrame({\n",
    "    'Year': np.tile(years, 4),\n",
    "    'Country': np.repeat(['USA', 'Canada', 'Germany', 'Japan'], len(years)),\n",
    "    'Value': np.random.randint(50, 150, len(years) * 4)\n",
    "})\n",
    "\n",
    "app2.layout = html.Div([\n",
    "    html.H3(\"Task 2: Interactive Line Chart\"),\n",
    "    dcc.Dropdown(\n",
    "        id='country-dropdown-2',\n",
    "        options=[{'label': c, 'value': c} for c in df2['Country'].unique()],\n",
    "        value='USA'\n",
    "    ),\n",
    "    dcc.RangeSlider(\n",
    "        id='year-slider-2',\n",
    "        min=2000, max=2020,\n",
    "        value=[2005, 2015],\n",
    "        marks={str(i): str(i) for i in years},\n",
    "        step=1\n",
    "    ),\n",
    "    dcc.Graph(id='line-chart-2')\n",
    "])\n",
    "\n",
    "@app2.callback(\n",
    "    Output('line-chart-2', 'figure'),\n",
    "    Input('country-dropdown-2', 'value'),\n",
    "    Input('year-slider-2', 'value')\n",
    ")\n",
    "def update_line_chart_2(country, year_range):\n",
    "    filtered = df2[(df2['Country'] == country) &\n",
    "                   (df2['Year'] >= year_range[0]) &\n",
    "                   (df2['Year'] <= year_range[1])]\n",
    "    return px.line(filtered, x='Year', y='Value', title=f\"Trend for {country}\")\n",
    "\n",
    "if __name__ == '__main__':\n",
    "    app2.run_server(debug=True, port=8052)  "
   ]
  },
  {
   "cell_type": "markdown",
   "id": "6e5de9ff-b521-47cb-a3f6-b673f28f5507",
   "metadata": {
    "id": "6e5de9ff-b521-47cb-a3f6-b673f28f5507"
   },
   "source": [
    "\n",
    "---\n",
    "\n",
    "## **📝 Task 3: Multiple Outputs - Interactive UI Updates**\n",
    "### **Requirement**\n",
    "- Create an interactive dashboard where clicking a button updates **two components simultaneously**:\n",
    "  - A **text component (`H3`)** displaying how many times the button has been clicked.\n",
    "  - A **background color of a div (`html.Div`)**, which changes color randomly on each click.\n",
    "\n",
    "### **Example Layout**\n",
    "- `html.Button`: Click to trigger updates.\n",
    "- `html.H3`: Displays the number of clicks.\n",
    "- `html.Div`: Background color changes dynamically.\n",
    "\n",
    "---\n"
   ]
  },
  {
   "cell_type": "code",
   "execution_count": 24,
   "id": "b76915b3-d469-4ad3-8038-d9e4d66bc682",
   "metadata": {
    "id": "b76915b3-d469-4ad3-8038-d9e4d66bc682"
   },
   "outputs": [
    {
     "data": {
      "text/html": [
       "\n",
       "        <iframe\n",
       "            width=\"100%\"\n",
       "            height=\"650\"\n",
       "            src=\"http://127.0.0.1:8053/\"\n",
       "            frameborder=\"0\"\n",
       "            allowfullscreen\n",
       "            \n",
       "        ></iframe>\n",
       "        "
      ],
      "text/plain": [
       "<IPython.lib.display.IFrame at 0x21a61165a50>"
      ]
     },
     "metadata": {},
     "output_type": "display_data"
    }
   ],
   "source": [
    "import random\n",
    "from dash import Dash, html, Input, Output\n",
    "\n",
    "app3 = Dash(__name__)\n",
    "\n",
    "def get_random_color():\n",
    "    colors = ['#FFB6C1', '#ADD8E6', '#90EE90', '#FFD700', '#FFA07A', '#DDA0DD']\n",
    "    return random.choice(colors)\n",
    "\n",
    "app3.layout = html.Div([\n",
    "    html.H3(\"Task 3: Button Counter and Background\"),\n",
    "    html.Button(\"Click Me\", id='click-button-3', n_clicks=0),\n",
    "    html.H3(id='click-counter-3'),\n",
    "    html.Div(\n",
    "        id='color-box-3',\n",
    "        children=\"Look At Me While Color Changes\",\n",
    "        style={\n",
    "            'height': '150px',\n",
    "            'lineHeight': '150px',\n",
    "            'textAlign': 'center',\n",
    "            'fontSize': '20px',\n",
    "            'color': 'white',\n",
    "            'borderRadius': '10px'\n",
    "        }\n",
    "    )\n",
    "])\n",
    "\n",
    "@app3.callback(\n",
    "    [Output('click-counter-3', 'children'),\n",
    "     Output('color-box-3', 'style')],\n",
    "    Input('click-button-3', 'n_clicks')\n",
    ")\n",
    "def update_ui_3(n_clicks):\n",
    "    return (\n",
    "        f\"Clicked {n_clicks} times!\",\n",
    "        {\n",
    "            'height': '150px',\n",
    "            'lineHeight': '150px',\n",
    "            'textAlign': 'center',\n",
    "            'fontSize': '20px',\n",
    "            'color': 'white',\n",
    "            'borderRadius': '10px',\n",
    "            'backgroundColor': get_random_color()\n",
    "        }\n",
    "    )\n",
    "\n",
    "if __name__ == '__main__':\n",
    "    app3.run_server(debug=True, port=8053) "
   ]
  },
  {
   "cell_type": "markdown",
   "id": "f816aecb-3e63-4dea-9fec-53a7e455e81c",
   "metadata": {
    "id": "f816aecb-3e63-4dea-9fec-53a7e455e81c"
   },
   "source": [
    "---\n",
    "# 📌 Task 4: Interactive Scatter Plot with User Controls using NumPy & Dash\n",
    "\n",
    "## 🔹 Objective\n",
    "Build an **interactive scatter plot** where users can dynamically select:\n",
    "- The **X-axis feature** (e.g., numerical values from the dataset).\n",
    "- The **Y-axis feature** (another numerical column).\n",
    "\n",
    "We will generate **synthetic data** using **NumPy** instead of using built-in datasets like Iris.\n",
    "\n",
    "## 🔹 How It Works\n",
    "### **1️⃣ Generate Random Data using NumPy**\n",
    "# Create a dataset with 500 random points\n",
    "\n",
    "```python\n",
    "num_samples = 500\n",
    "- Feature_A: Normally distributed values around 50 with a standard deviation of 15. (X)\n",
    "\n",
    "     np.random.normal(50, 15, num_samples)\n",
    "- Feature_B: Random values uniformly distributed between 10 and 100. (Y)\n",
    "\n",
    "     np.random.uniform(10, 100, num_samples)\n",
    "- Feature_C: Random integer values between 1 and 100. (Z)                                                   \n",
    "          \n",
    "    np.random.randint(1, 100, num_samples)"
   ]
  },
  {
   "cell_type": "markdown",
   "id": "2229a682-06a5-43a6-8783-af096e6b04e5",
   "metadata": {
    "id": "2229a682-06a5-43a6-8783-af096e6b04e5"
   },
   "source": [
    "### **2️⃣ Build an Interactive Dashboard using Dash**\n",
    "- Users can choose **X and Y** or **Z and Y**  features from dropdown menus.\n",
    "- A **scatter plot dynamically updates** based on the selections.\n",
    "\n",
    "---"
   ]
  },
  {
   "cell_type": "code",
   "execution_count": 23,
   "id": "0925fa97-617f-45e2-9778-f806b5917030",
   "metadata": {
    "id": "0925fa97-617f-45e2-9778-f806b5917030"
   },
   "outputs": [
    {
     "data": {
      "text/html": [
       "\n",
       "        <iframe\n",
       "            width=\"100%\"\n",
       "            height=\"650\"\n",
       "            src=\"http://127.0.0.1:8054/\"\n",
       "            frameborder=\"0\"\n",
       "            allowfullscreen\n",
       "            \n",
       "        ></iframe>\n",
       "        "
      ],
      "text/plain": [
       "<IPython.lib.display.IFrame at 0x21a610974d0>"
      ]
     },
     "metadata": {},
     "output_type": "display_data"
    }
   ],
   "source": [
    "import numpy as np\n",
    "import pandas as pd\n",
    "import plotly.express as px\n",
    "from dash import Dash, dcc, html, Input, Output\n",
    "\n",
    "app4 = Dash(__name__)\n",
    "\n",
    "np.random.seed(42)\n",
    "num_samples = 500\n",
    "df4 = pd.DataFrame({\n",
    "    'Feature_A': np.random.normal(50, 15, num_samples),\n",
    "    'Feature_B': np.random.uniform(10, 100, num_samples),\n",
    "    'Feature_C': np.random.randint(1, 100, num_samples)\n",
    "})\n",
    "features = df4.columns.tolist()\n",
    "\n",
    "app4.layout = html.Div([\n",
    "    html.H3(\"Task 4: Scatter Plot (NumPy)\"),\n",
    "    html.Div([\n",
    "        html.Label(\"X-axis:\"),\n",
    "        dcc.Dropdown(\n",
    "            id='x-feature-4',\n",
    "            options=[{'label': f, 'value': f} for f in features],\n",
    "            value='Feature_A'\n",
    "        )\n",
    "    ], style={'width': '45%', 'display': 'inline-block'}),\n",
    "    html.Div([\n",
    "        html.Label(\"Y-axis:\"),\n",
    "        dcc.Dropdown(\n",
    "            id='y-feature-4',\n",
    "            options=[{'label': f, 'value': f} for f in features],\n",
    "            value='Feature_B'\n",
    "        )\n",
    "    ], style={'width': '45%', 'display': 'inline-block', 'marginLeft': '5%'}),\n",
    "    dcc.Graph(id='scatter-plot-4')\n",
    "])\n",
    "\n",
    "@app4.callback(\n",
    "    Output('scatter-plot-4', 'figure'),\n",
    "    Input('x-feature-4', 'value'),\n",
    "    Input('y-feature-4', 'value')\n",
    ")\n",
    "def update_scatter_4(x, y):\n",
    "    return px.scatter(df4, x=x, y=y, title=f\"{x} vs {y}\",\n",
    "                      color_discrete_sequence=['#00CC96'])\n",
    "\n",
    "if __name__ == '__main__':\n",
    "    app4.run_server(debug=True, port=8054) "
   ]
  },
  {
   "cell_type": "markdown",
   "id": "48bb9ee3",
   "metadata": {},
   "source": [
    "## Thanks"
   ]
  }
 ],
 "metadata": {
  "colab": {
   "provenance": []
  },
  "kernelspec": {
   "display_name": "Python 3 (ipykernel)",
   "language": "python",
   "name": "python3"
  },
  "language_info": {
   "codemirror_mode": {
    "name": "ipython",
    "version": 3
   },
   "file_extension": ".py",
   "mimetype": "text/x-python",
   "name": "python",
   "nbconvert_exporter": "python",
   "pygments_lexer": "ipython3",
   "version": "3.11.5"
  }
 },
 "nbformat": 4,
 "nbformat_minor": 5
}
